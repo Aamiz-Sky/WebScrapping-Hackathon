{
 "cells": [
  {
   "cell_type": "code",
   "execution_count": null,
   "id": "80bfba55",
   "metadata": {},
   "outputs": [
    {
     "name": "stdout",
     "output_type": "stream",
     "text": [
      "Data saved in mutual_funds_data.csv\n"
     ]
    }
   ],
   "source": [
    "import csv\n",
    "import os\n",
    "import requests\n",
    "from bs4 import BeautifulSoup\n",
    "\n",
    "# Define CSV File\n",
    "csv_file = \"mutual_funds_data.csv\"\n",
    "\n",
    "# Check if file exists\n",
    "file_exists = os.path.exists(csv_file)\n",
    "\n",
    "# Fetch Webpage & Parse Data\n",
    "url = \"https://sarmaaya.pk/mutual-funds/\"\n",
    "soup = BeautifulSoup(requests.get(url).content, \"html.parser\")\n",
    "\n",
    "# Locate Table\n",
    "data_table = soup.find(\"table\", {\"id\": \"funds-table\"})\n",
    "\n",
    "# Extract Headers\n",
    "header_cells = data_table.find(\"thead\").find_all(\"th\")\n",
    "headers = [\"Serial No\"] + [cell.text.strip() for cell in header_cells]\n",
    "\n",
    "# Open CSV file and write data\n",
    "with open(csv_file, mode=\"a\", newline=\"\", encoding=\"utf-8\") as file:\n",
    "    writer = csv.writer(file)\n",
    "\n",
    "    # Write headers if file is new\n",
    "    if not file_exists:\n",
    "        writer.writerow(headers)\n",
    "\n",
    "    # Extract & Write Rows\n",
    "    rows = data_table.find(\"tbody\").find_all(\"tr\")\n",
    "    \n",
    "    for index, row in enumerate(rows, start=1):\n",
    "        cells = row.find_all(\"td\")\n",
    "        row_data = [index] + [cell.text.strip() for cell in cells]\n",
    "        writer.writerow(row_data)\n",
    "\n",
    "print(f\"Data saved in {csv_file}\")\n"
   ]
  },
  {
   "cell_type": "code",
   "execution_count": null,
   "id": "1a4ccaad",
   "metadata": {},
   "outputs": [],
   "source": []
  }
 ],
 "metadata": {
  "kernelspec": {
   "display_name": "base",
   "language": "python",
   "name": "python3"
  },
  "language_info": {
   "codemirror_mode": {
    "name": "ipython",
    "version": 3
   },
   "file_extension": ".py",
   "mimetype": "text/x-python",
   "name": "python",
   "nbconvert_exporter": "python",
   "pygments_lexer": "ipython3",
   "version": "3.12.7"
  }
 },
 "nbformat": 4,
 "nbformat_minor": 5
}
