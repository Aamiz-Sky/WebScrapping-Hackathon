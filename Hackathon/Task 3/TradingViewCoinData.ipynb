{
 "cells": [
  {
   "cell_type": "code",
   "execution_count": 3,
   "id": "5002e721",
   "metadata": {},
   "outputs": [
    {
     "name": "stdout",
     "output_type": "stream",
     "text": [
      "✅ Successfully saved 8 columns to: tradingview_nyse_a.csv\n"
     ]
    }
   ],
   "source": [
    "import csv\n",
    "import os\n",
    "import re\n",
    "import unicodedata\n",
    "from selenium import webdriver\n",
    "from selenium.webdriver.chrome.service import Service\n",
    "from selenium.webdriver.chrome.options import Options\n",
    "from selenium.webdriver.common.by import By\n",
    "from selenium.webdriver.support.ui import WebDriverWait\n",
    "from selenium.webdriver.support import expected_conditions as EC\n",
    "\n",
    "# === Chrome Setup ===\n",
    "options = Options()\n",
    "options.add_argument(\"--disable-gpu\")\n",
    "options.add_argument(\"--window-size=1920,1080\")\n",
    "options.add_argument(\"--headless\")  # Optional: for headless execution\n",
    "\n",
    "driver_path = r'F:\\SaylaniPython\\Selenium Driver\\chromedriver-win64\\chromedriver.exe'\n",
    "service = Service(driver_path)\n",
    "driver = webdriver.Chrome(service=service, options=options)\n",
    "\n",
    "# === CSV Setup ===\n",
    "csv_file = \"tradingview_nyse_a.csv\"\n",
    "\n",
    "# === Text Cleaner ===\n",
    "def clean_text(text):\n",
    "    text = unicodedata.normalize(\"NFKD\", text)\n",
    "    text = text.encode(\"ascii\", \"ignore\").decode(\"utf-8\")\n",
    "    text = re.sub(r'[^a-zA-Z0-9.%+:/,\\s-]', '-', text.strip())\n",
    "    return text\n",
    "\n",
    "try:\n",
    "    url = \"https://www.tradingview.com/symbols/NYSE-A/\"\n",
    "    driver.get(url)\n",
    "    WebDriverWait(driver, 15).until(lambda d: d.execute_script(\"return document.readyState\") == \"complete\")\n",
    "\n",
    "    # Wait for boxes to load\n",
    "    WebDriverWait(driver, 15).until(\n",
    "        EC.presence_of_all_elements_located((By.CSS_SELECTOR, \".apply-overflow-tooltip.value-QCJM7wcY\"))\n",
    "    )\n",
    "\n",
    "    # Get all boxes\n",
    "    boxes = driver.find_elements(By.CSS_SELECTOR, \".apply-overflow-tooltip.value-QCJM7wcY\")\n",
    "\n",
    "    labels = []\n",
    "    values = []\n",
    "\n",
    "    for i in range(min(8, len(boxes))):  # Only first 8\n",
    "        label_element = boxes[i].find_element(By.XPATH, \"./../../preceding-sibling::*[1]\")  # Navigate to label\n",
    "        label = clean_text(label_element.text)\n",
    "        value = clean_text(boxes[i].text)\n",
    "        labels.append(label)\n",
    "        values.append(value)\n",
    "\n",
    "    # Save to CSV (headings as columns)\n",
    "    with open(csv_file, mode=\"w\", newline=\"\", encoding=\"utf-8\") as file:\n",
    "        writer = csv.writer(file)\n",
    "        writer.writerow(labels)\n",
    "        writer.writerow(values)\n",
    "\n",
    "    print(f\"✅ Successfully saved {len(labels)} columns to: {csv_file}\")\n",
    "\n",
    "except Exception as e:\n",
    "    print(f\"❌ Error: {e}\")\n",
    "\n",
    "finally:\n",
    "    driver.quit()\n"
   ]
  },
  {
   "cell_type": "code",
   "execution_count": null,
   "id": "9d1b408e",
   "metadata": {},
   "outputs": [],
   "source": []
  }
 ],
 "metadata": {
  "kernelspec": {
   "display_name": "base",
   "language": "python",
   "name": "python3"
  },
  "language_info": {
   "codemirror_mode": {
    "name": "ipython",
    "version": 3
   },
   "file_extension": ".py",
   "mimetype": "text/x-python",
   "name": "python",
   "nbconvert_exporter": "python",
   "pygments_lexer": "ipython3",
   "version": "3.12.7"
  }
 },
 "nbformat": 4,
 "nbformat_minor": 5
}
